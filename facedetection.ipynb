{
 "cells": [
  {
   "cell_type": "code",
   "execution_count": 11,
   "id": "b3e090a9-e427-40c3-8827-af32f949a8e6",
   "metadata": {},
   "outputs": [
    {
     "name": "stdout",
     "output_type": "stream",
     "text": [
      "Requirement already satisfied: mtcnn in /Users/akashpathak/opt/anaconda3/envs/practice/lib/python3.8/site-packages (0.1.0)\n",
      "Requirement already satisfied: opencv-python>=4.1.0 in /Users/akashpathak/opt/anaconda3/envs/practice/lib/python3.8/site-packages (from mtcnn) (4.5.2.52)\n",
      "Requirement already satisfied: keras>=2.0.0 in /Users/akashpathak/opt/anaconda3/envs/practice/lib/python3.8/site-packages (from mtcnn) (2.4.3)\n",
      "Requirement already satisfied: pyyaml in /Users/akashpathak/opt/anaconda3/envs/practice/lib/python3.8/site-packages (from keras>=2.0.0->mtcnn) (5.4.1)\n",
      "Requirement already satisfied: h5py in /Users/akashpathak/opt/anaconda3/envs/practice/lib/python3.8/site-packages (from keras>=2.0.0->mtcnn) (3.1.0)\n",
      "Requirement already satisfied: numpy>=1.9.1 in /Users/akashpathak/opt/anaconda3/envs/practice/lib/python3.8/site-packages (from keras>=2.0.0->mtcnn) (1.19.5)\n",
      "Requirement already satisfied: scipy>=0.14 in /Users/akashpathak/opt/anaconda3/envs/practice/lib/python3.8/site-packages (from keras>=2.0.0->mtcnn) (1.6.3)\n",
      "Requirement already satisfied: keras_vggface in /Users/akashpathak/opt/anaconda3/envs/practice/lib/python3.8/site-packages (0.6)\n",
      "Requirement already satisfied: numpy>=1.9.1 in /Users/akashpathak/opt/anaconda3/envs/practice/lib/python3.8/site-packages (from keras_vggface) (1.19.5)\n",
      "Requirement already satisfied: scipy>=0.14 in /Users/akashpathak/opt/anaconda3/envs/practice/lib/python3.8/site-packages (from keras_vggface) (1.6.3)\n",
      "Requirement already satisfied: pyyaml in /Users/akashpathak/opt/anaconda3/envs/practice/lib/python3.8/site-packages (from keras_vggface) (5.4.1)\n",
      "Requirement already satisfied: h5py in /Users/akashpathak/opt/anaconda3/envs/practice/lib/python3.8/site-packages (from keras_vggface) (3.1.0)\n",
      "Requirement already satisfied: keras in /Users/akashpathak/opt/anaconda3/envs/practice/lib/python3.8/site-packages (from keras_vggface) (2.4.3)\n",
      "Requirement already satisfied: six>=1.9.0 in /Users/akashpathak/opt/anaconda3/envs/practice/lib/python3.8/site-packages (from keras_vggface) (1.15.0)\n",
      "Requirement already satisfied: pillow in /Users/akashpathak/opt/anaconda3/envs/practice/lib/python3.8/site-packages (from keras_vggface) (8.2.0)\n",
      "Requirement already satisfied: tensorflow in /Users/akashpathak/opt/anaconda3/envs/practice/lib/python3.8/site-packages (2.5.0)\n",
      "Requirement already satisfied: termcolor~=1.1.0 in /Users/akashpathak/opt/anaconda3/envs/practice/lib/python3.8/site-packages (from tensorflow) (1.1.0)\n",
      "Requirement already satisfied: wrapt~=1.12.1 in /Users/akashpathak/opt/anaconda3/envs/practice/lib/python3.8/site-packages (from tensorflow) (1.12.1)\n",
      "Requirement already satisfied: six~=1.15.0 in /Users/akashpathak/opt/anaconda3/envs/practice/lib/python3.8/site-packages (from tensorflow) (1.15.0)\n",
      "Requirement already satisfied: keras-nightly~=2.5.0.dev in /Users/akashpathak/opt/anaconda3/envs/practice/lib/python3.8/site-packages (from tensorflow) (2.5.0.dev2021032900)\n",
      "Requirement already satisfied: flatbuffers~=1.12.0 in /Users/akashpathak/opt/anaconda3/envs/practice/lib/python3.8/site-packages (from tensorflow) (1.12)\n",
      "Requirement already satisfied: grpcio~=1.34.0 in /Users/akashpathak/opt/anaconda3/envs/practice/lib/python3.8/site-packages (from tensorflow) (1.34.1)\n",
      "Requirement already satisfied: opt-einsum~=3.3.0 in /Users/akashpathak/opt/anaconda3/envs/practice/lib/python3.8/site-packages (from tensorflow) (3.3.0)\n",
      "Requirement already satisfied: google-pasta~=0.2 in /Users/akashpathak/opt/anaconda3/envs/practice/lib/python3.8/site-packages (from tensorflow) (0.2.0)\n",
      "Requirement already satisfied: wheel~=0.35 in /Users/akashpathak/opt/anaconda3/envs/practice/lib/python3.8/site-packages (from tensorflow) (0.36.2)\n",
      "Requirement already satisfied: h5py~=3.1.0 in /Users/akashpathak/opt/anaconda3/envs/practice/lib/python3.8/site-packages (from tensorflow) (3.1.0)\n",
      "Requirement already satisfied: protobuf>=3.9.2 in /Users/akashpathak/opt/anaconda3/envs/practice/lib/python3.8/site-packages (from tensorflow) (3.17.2)\n",
      "Requirement already satisfied: astunparse~=1.6.3 in /Users/akashpathak/opt/anaconda3/envs/practice/lib/python3.8/site-packages (from tensorflow) (1.6.3)\n",
      "Requirement already satisfied: tensorboard~=2.5 in /Users/akashpathak/opt/anaconda3/envs/practice/lib/python3.8/site-packages (from tensorflow) (2.5.0)\n",
      "Requirement already satisfied: absl-py~=0.10 in /Users/akashpathak/opt/anaconda3/envs/practice/lib/python3.8/site-packages (from tensorflow) (0.12.0)\n",
      "Requirement already satisfied: keras-preprocessing~=1.1.2 in /Users/akashpathak/opt/anaconda3/envs/practice/lib/python3.8/site-packages (from tensorflow) (1.1.2)\n",
      "Requirement already satisfied: numpy~=1.19.2 in /Users/akashpathak/opt/anaconda3/envs/practice/lib/python3.8/site-packages (from tensorflow) (1.19.5)\n",
      "Requirement already satisfied: gast==0.4.0 in /Users/akashpathak/opt/anaconda3/envs/practice/lib/python3.8/site-packages (from tensorflow) (0.4.0)\n",
      "Requirement already satisfied: typing-extensions~=3.7.4 in /Users/akashpathak/opt/anaconda3/envs/practice/lib/python3.8/site-packages (from tensorflow) (3.7.4.3)\n",
      "Requirement already satisfied: tensorflow-estimator<2.6.0,>=2.5.0rc0 in /Users/akashpathak/opt/anaconda3/envs/practice/lib/python3.8/site-packages (from tensorflow) (2.5.0)\n",
      "Requirement already satisfied: requests<3,>=2.21.0 in /Users/akashpathak/opt/anaconda3/envs/practice/lib/python3.8/site-packages (from tensorboard~=2.5->tensorflow) (2.25.1)\n",
      "Requirement already satisfied: google-auth-oauthlib<0.5,>=0.4.1 in /Users/akashpathak/opt/anaconda3/envs/practice/lib/python3.8/site-packages (from tensorboard~=2.5->tensorflow) (0.4.4)\n",
      "Requirement already satisfied: tensorboard-plugin-wit>=1.6.0 in /Users/akashpathak/opt/anaconda3/envs/practice/lib/python3.8/site-packages (from tensorboard~=2.5->tensorflow) (1.8.0)\n",
      "Requirement already satisfied: markdown>=2.6.8 in /Users/akashpathak/opt/anaconda3/envs/practice/lib/python3.8/site-packages (from tensorboard~=2.5->tensorflow) (3.3.4)\n",
      "Requirement already satisfied: tensorboard-data-server<0.7.0,>=0.6.0 in /Users/akashpathak/opt/anaconda3/envs/practice/lib/python3.8/site-packages (from tensorboard~=2.5->tensorflow) (0.6.1)\n",
      "Requirement already satisfied: setuptools>=41.0.0 in /Users/akashpathak/opt/anaconda3/envs/practice/lib/python3.8/site-packages (from tensorboard~=2.5->tensorflow) (52.0.0.post20210125)\n",
      "Requirement already satisfied: google-auth<2,>=1.6.3 in /Users/akashpathak/opt/anaconda3/envs/practice/lib/python3.8/site-packages (from tensorboard~=2.5->tensorflow) (1.30.1)\n",
      "Requirement already satisfied: werkzeug>=0.11.15 in /Users/akashpathak/opt/anaconda3/envs/practice/lib/python3.8/site-packages (from tensorboard~=2.5->tensorflow) (2.0.1)\n",
      "Requirement already satisfied: rsa<5,>=3.1.4 in /Users/akashpathak/opt/anaconda3/envs/practice/lib/python3.8/site-packages (from google-auth<2,>=1.6.3->tensorboard~=2.5->tensorflow) (4.7.2)\n",
      "Requirement already satisfied: pyasn1-modules>=0.2.1 in /Users/akashpathak/opt/anaconda3/envs/practice/lib/python3.8/site-packages (from google-auth<2,>=1.6.3->tensorboard~=2.5->tensorflow) (0.2.8)\n",
      "Requirement already satisfied: cachetools<5.0,>=2.0.0 in /Users/akashpathak/opt/anaconda3/envs/practice/lib/python3.8/site-packages (from google-auth<2,>=1.6.3->tensorboard~=2.5->tensorflow) (4.2.2)\n",
      "Requirement already satisfied: requests-oauthlib>=0.7.0 in /Users/akashpathak/opt/anaconda3/envs/practice/lib/python3.8/site-packages (from google-auth-oauthlib<0.5,>=0.4.1->tensorboard~=2.5->tensorflow) (1.3.0)\n",
      "Requirement already satisfied: pyasn1<0.5.0,>=0.4.6 in /Users/akashpathak/opt/anaconda3/envs/practice/lib/python3.8/site-packages (from pyasn1-modules>=0.2.1->google-auth<2,>=1.6.3->tensorboard~=2.5->tensorflow) (0.4.8)\n",
      "Requirement already satisfied: idna<3,>=2.5 in /Users/akashpathak/opt/anaconda3/envs/practice/lib/python3.8/site-packages (from requests<3,>=2.21.0->tensorboard~=2.5->tensorflow) (2.10)\n",
      "Requirement already satisfied: chardet<5,>=3.0.2 in /Users/akashpathak/opt/anaconda3/envs/practice/lib/python3.8/site-packages (from requests<3,>=2.21.0->tensorboard~=2.5->tensorflow) (4.0.0)\n",
      "Requirement already satisfied: certifi>=2017.4.17 in /Users/akashpathak/opt/anaconda3/envs/practice/lib/python3.8/site-packages (from requests<3,>=2.21.0->tensorboard~=2.5->tensorflow) (2021.5.30)\n",
      "Requirement already satisfied: urllib3<1.27,>=1.21.1 in /Users/akashpathak/opt/anaconda3/envs/practice/lib/python3.8/site-packages (from requests<3,>=2.21.0->tensorboard~=2.5->tensorflow) (1.26.4)\n",
      "Requirement already satisfied: oauthlib>=3.0.0 in /Users/akashpathak/opt/anaconda3/envs/practice/lib/python3.8/site-packages (from requests-oauthlib>=0.7.0->google-auth-oauthlib<0.5,>=0.4.1->tensorboard~=2.5->tensorflow) (3.1.1)\n",
      "Collecting keras_applications\n",
      "  Using cached Keras_Applications-1.0.8-py3-none-any.whl (50 kB)\n",
      "Requirement already satisfied: h5py in /Users/akashpathak/opt/anaconda3/envs/practice/lib/python3.8/site-packages (from keras_applications) (3.1.0)\n",
      "Requirement already satisfied: numpy>=1.9.1 in /Users/akashpathak/opt/anaconda3/envs/practice/lib/python3.8/site-packages (from keras_applications) (1.19.5)\n",
      "Installing collected packages: keras-applications\n",
      "Successfully installed keras-applications-1.0.8\n",
      "\u001b[31mERROR: Could not find a version that satisfies the requirement PIL (from versions: none)\u001b[0m\n",
      "\u001b[31mERROR: No matching distribution found for PIL\u001b[0m\n"
     ]
    }
   ],
   "source": []
  },
  {
   "cell_type": "code",
   "execution_count": 6,
   "id": "4fca1eff-a7c6-4aff-aecb-e372a000aa45",
   "metadata": {},
   "outputs": [],
   "source": [
    "from imutils.video import VideoStream\n",
    "import cv2\n",
    "import imutils\n",
    "import os\n",
    "import time\n",
    "import numpy as np\n",
    "from keras_vggface.vggface import VGGFace\n",
    "from keras_vggface.utils import preprocess_input\n",
    "from keras_vggface.utils import decode_predictions\n",
    "import PIL\n",
    "import numpy as np\n"
   ]
  },
  {
   "cell_type": "code",
   "execution_count": 7,
   "id": "53e7a611-1a44-450d-ad42-191d6a89e356",
   "metadata": {},
   "outputs": [
    {
     "name": "stdout",
     "output_type": "stream",
     "text": [
      "{'face': <CascadeClassifier 0x7ffbebd048d0>, 'eyes': <CascadeClassifier 0x7ffbebd04510>, 'smile': <CascadeClassifier 0x7ffbebd04590>}\n"
     ]
    }
   ],
   "source": [
    "detectorPaths = {\n",
    "\t\"face\": \"haarcascade_frontalface_default.xml\",\n",
    "\t\"eyes\": \"haarcascade_eye.xml\",\n",
    "\t\"smile\": \"haarcascade_smile.xml\",\n",
    "}\n",
    "\n",
    "detector = {}\n",
    "\n",
    "for (name,path) in detectorPaths.items():\n",
    "    path = os.path.join(\"./haarcascades/\",path)\n",
    "    detector[name] = cv2.CascadeClassifier(path)\n",
    "\n",
    "print(detector)"
   ]
  },
  {
   "cell_type": "code",
   "execution_count": 8,
   "id": "d740aea6-c07d-4bee-88e0-68adb5c97087",
   "metadata": {},
   "outputs": [],
   "source": [
    "#start video stream\n",
    "model = VGGFace(model= 'resnet50')\n",
    "# detector = MTCNN()\n",
    "target_size = (224,224) # output image size\n",
    "border_rel = 0 # increase or decrease zoom on image\n",
    "\n"
   ]
  },
  {
   "cell_type": "code",
   "execution_count": 9,
   "id": "e351b69c-4843-4849-a041-a6696e203dfb",
   "metadata": {},
   "outputs": [],
   "source": [
    "vs = VideoStream(src=0).start()\n",
    "time.sleep(2.0)\n",
    "cv2.startWindowThread()\n",
    "\n",
    "while True:\n",
    "    \n",
    "    frame = vs.read()\n",
    "    frame = imutils.resize(frame,width=500)\n",
    "    gray = cv2.cvtColor(frame,cv2.COLOR_BGR2GRAY)\n",
    "    \n",
    "    face_rect = detector[\"face\"].detectMultiScale(gray,scaleFactor=1.05, minNeighbors=5, minSize=(30, 30),\n",
    "                                                  flags=cv2.CASCADE_SCALE_IMAGE)\n",
    "    for (fX, fY, fW, fH) in face_rect:\n",
    "        \n",
    "        cv2.rectangle(gray,(fX, fY), (fX + fW, fY + fH),\n",
    "                      (0, 255, 0), 2)\n",
    "        \n",
    "        x1, y1, width, height = fX, fY, fW, fH\n",
    "        dw = round(width * border_rel)\n",
    "        dh = round(height * border_rel)\n",
    "\n",
    "        x2, y2 = x1 + width + dw, y1 + height + dh\n",
    "#         face = frame[y1:y2, x1:x2]\n",
    "        \n",
    "#         faces = frame[fY : fY + fH , fX:fX + fW]\n",
    "#         cv2.imshow(\"faces\",faces)\n",
    "    \n",
    "    \n",
    "        \n",
    "        face = frame[y1:y2, x1:x2]\n",
    "        face = PIL.Image.fromarray(face)\n",
    "        face = face.resize((224, 224))\n",
    "        face = np.asarray(face)\n",
    "\n",
    " \n",
    "        face_pp = face.astype('float32')\n",
    "        face_pp = np.expand_dims(face_pp, axis = 0)\n",
    "        face_pp = preprocess_input(face_pp, version = 2)\n",
    "    \n",
    "        prediction = model.predict(face_pp)\n",
    "        results = decode_predictions(prediction)\n",
    "        \n",
    "        # Display results\n",
    "        cv2.imshow(\"face\",face)\n",
    "        \n",
    "        if(results[0][0][1] * 100 > 90):\n",
    "            print(\"found this\")\n",
    "            ans = input()\n",
    "            play_video(\"play\")\n",
    "            vs.stop()\n",
    "            for result in results[0]:\n",
    "                print ('%s: %.3f%%' % (result[0], result[1]*100))\n",
    "    \n",
    "    cv2.imshow(\"Frame\", gray)\n",
    "    \n",
    "    key = cv2.waitKey(1) & 0xFF\n",
    "    # if the `q` key was pressed, break from the loop\n",
    "    if key == ord(\"q\"):\n",
    "        break\n",
    "\n",
    "cv2.destroyAllWindows()\n",
    "vs.stop()\n"
   ]
  },
  {
   "cell_type": "code",
   "execution_count": 8,
   "id": "0d46670b-1c19-419c-811d-8f4ad912c71b",
   "metadata": {},
   "outputs": [
    {
     "name": "stdout",
     "output_type": "stream",
     "text": [
      "0.001094596\n"
     ]
    }
   ],
   "source": [
    "   #     face_rect = detector[\"face\"].detectMultiScale(gray,scaleFactor=1.05, minNeighbors=5, minSize=(30, 30),\n",
    "    #                                                   flags=cv2.CASCADE_SCALE_IMAGE)\n",
    "    #     for (fX, fY, fW, fH) in face_rect:\n",
    "    #         cv2.rectangle(gray,(fX, fY), (fX + fW, fY + fH),\n",
    "    #                       (0, 255, 0), 2)\n",
    "\n",
    "    #         faces = frame[fY : fY + fH , fX:fX + fW]\n",
    "    #         cv2.imshow(\"face\",faces)\n",
    "    \n",
    "    "
   ]
  },
  {
   "cell_type": "code",
   "execution_count": null,
   "id": "1a4cfeab-429e-4d11-84be-f060ebffd5a4",
   "metadata": {},
   "outputs": [],
   "source": []
  }
 ],
 "metadata": {
  "kernelspec": {
   "display_name": "Python 3",
   "language": "python",
   "name": "python3"
  },
  "language_info": {
   "codemirror_mode": {
    "name": "ipython",
    "version": 3
   },
   "file_extension": ".py",
   "mimetype": "text/x-python",
   "name": "python",
   "nbconvert_exporter": "python",
   "pygments_lexer": "ipython3",
   "version": "3.8.10"
  }
 },
 "nbformat": 4,
 "nbformat_minor": 5
}
