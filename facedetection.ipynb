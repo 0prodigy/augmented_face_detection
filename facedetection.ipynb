{
 "cells": [
  {
   "cell_type": "code",
   "execution_count": 5,
   "id": "4fca1eff-a7c6-4aff-aecb-e372a000aa45",
   "metadata": {},
   "outputs": [],
   "source": [
    "from imutils.video import VideoStream\n",
    "import cv2\n",
    "import imutils\n",
    "import os\n",
    "import time\n",
    "import numpy as np\n",
    "import matplotlib.pyplot as plt"
   ]
  },
  {
   "cell_type": "code",
   "execution_count": 2,
   "id": "53e7a611-1a44-450d-ad42-191d6a89e356",
   "metadata": {},
   "outputs": [
    {
     "name": "stdout",
     "output_type": "stream",
     "text": [
      "{'face': <CascadeClassifier 0x7fe7cf93a910>, 'eyes': <CascadeClassifier 0x7fe7d09917d0>, 'smile': <CascadeClassifier 0x7fe7d0991930>}\n"
     ]
    }
   ],
   "source": [
    "detectorPaths = {\n",
    "\t\"face\": \"haarcascade_frontalface_default.xml\",\n",
    "\t\"eyes\": \"haarcascade_eye.xml\",\n",
    "\t\"smile\": \"haarcascade_smile.xml\",\n",
    "}\n",
    "\n",
    "detector = {}\n",
    "\n",
    "for (name,path) in detectorPaths.items():\n",
    "    path = os.path.join(\"./haarcascades/\",path)\n",
    "    detector[name] = cv2.CascadeClassifier(path)\n",
    "\n",
    "print(detector)"
   ]
  },
  {
   "cell_type": "code",
   "execution_count": 14,
   "id": "d740aea6-c07d-4bee-88e0-68adb5c97087",
   "metadata": {},
   "outputs": [],
   "source": [
    "#start video stream\n",
    "\n",
    "vs = VideoStream(src=0).start()\n",
    "time.sleep(2.0)\n",
    "cv2.startWindowThread()\n",
    "while True:\n",
    "    \n",
    "    frame = vs.read()\n",
    "    frame = imutils.resize(frame,width=500)\n",
    "    gray = cv2.cvtColor(frame,cv2.COLOR_BGR2GRAY)\n",
    "    \n",
    "    face_rect = detector[\"face\"].detectMultiScale(gray,scaleFactor=1.05, minNeighbors=5, minSize=(30, 30),\n",
    "                                                  flags=cv2.CASCADE_SCALE_IMAGE)\n",
    "    \n",
    "    for (fX, fY, fW, fH) in face_rect:\n",
    "    \n",
    "        cv2.rectangle(frame,(fX, fY), (fX + fW, fY + fH),\n",
    "                      (0, 255, 0), 2)\n",
    "    cv2.imshow(\"Frame\", gray)\n",
    "    key = cv2.waitKey(1) & 0xFF\n",
    "    # if the `q` key was pressed, break from the loop\n",
    "    if key == ord(\"q\"):\n",
    "        break\n",
    "\n",
    "cv2.destroyAllWindows()\n",
    "vs.stop()\n"
   ]
  },
  {
   "cell_type": "code",
   "execution_count": null,
   "id": "e351b69c-4843-4849-a041-a6696e203dfb",
   "metadata": {},
   "outputs": [],
   "source": []
  }
 ],
 "metadata": {
  "kernelspec": {
   "display_name": "Python 3",
   "language": "python",
   "name": "python3"
  },
  "language_info": {
   "codemirror_mode": {
    "name": "ipython",
    "version": 3
   },
   "file_extension": ".py",
   "mimetype": "text/x-python",
   "name": "python",
   "nbconvert_exporter": "python",
   "pygments_lexer": "ipython3",
   "version": "3.8.10"
  }
 },
 "nbformat": 4,
 "nbformat_minor": 5
}
